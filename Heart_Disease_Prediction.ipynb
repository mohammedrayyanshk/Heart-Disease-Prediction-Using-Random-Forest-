{
  "cells": [
    {
      "cell_type": "code",
      "execution_count": null,
      "metadata": {
        "colab": {
          "base_uri": "https://localhost:8080/"
        },
        "id": "h76JsKlLBoMy",
        "outputId": "9ccf4808-d31d-4c7a-c097-ba4c857e70c0"
      },
      "outputs": [
        {
          "name": "stdout",
          "output_type": "stream",
          "text": [
            "Downloading from https://www.kaggle.com/api/v1/datasets/download/rishidamarla/heart-disease-prediction?dataset_version_number=1...\n"
          ]
        },
        {
          "name": "stderr",
          "output_type": "stream",
          "text": [
            "100%|██████████| 3.41k/3.41k [00:00<00:00, 388kB/s]"
          ]
        },
        {
          "name": "stdout",
          "output_type": "stream",
          "text": [
            "Extracting files...\n",
            "Path to dataset files: /root/.cache/kagglehub/datasets/rishidamarla/heart-disease-prediction/versions/1\n"
          ]
        },
        {
          "name": "stderr",
          "output_type": "stream",
          "text": [
            "\n"
          ]
        }
      ],
      "source": [
        "import kagglehub\n",
        "\n",
        "# Download latest version\n",
        "path = kagglehub.dataset_download(\"rishidamarla/heart-disease-prediction\")\n",
        "\n",
        "print(\"Path to dataset files:\", path)"
      ]
    },
    {
      "cell_type": "code",
      "execution_count": 3,
      "metadata": {
        "colab": {
          "base_uri": "https://localhost:8080/"
        },
        "id": "Y59GUJHhCPbK",
        "outputId": "ed9262d2-3c2f-4a8a-f1eb-bf79177044e0"
      },
      "outputs": [
        {
          "name": "stdout",
          "output_type": "stream",
          "text": [
            "\n",
            "First 5 Rows of the Dataset:\n",
            "    Age  Sex  Chest pain type   BP  Cholesterol  FBS over 120  EKG results  \\\n",
            "0   70    1                4  130          322             0            2   \n",
            "1   67    0                3  115          564             0            2   \n",
            "2   57    1                2  124          261             0            0   \n",
            "3   64    1                4  128          263             0            0   \n",
            "4   74    0                2  120          269             0            2   \n",
            "\n",
            "   Max HR  Exercise angina  ST depression  Slope of ST  \\\n",
            "0     109                0            2.4            2   \n",
            "1     160                0            1.6            2   \n",
            "2     141                0            0.3            1   \n",
            "3     105                1            0.2            2   \n",
            "4     121                1            0.2            1   \n",
            "\n",
            "   Number of vessels fluro  Thallium Heart Disease  \n",
            "0                        3         3      Presence  \n",
            "1                        0         7       Absence  \n",
            "2                        0         7      Presence  \n",
            "3                        1         7       Absence  \n",
            "4                        1         3       Absence  \n",
            "\n",
            "Random Forest Model Trained Successfully!\n",
            "\n",
            "Model Accuracy: 0.7962962962962963\n",
            "\n",
            "Classification Report:\n",
            "               precision    recall  f1-score   support\n",
            "\n",
            "     Absence       0.81      0.88      0.84        33\n",
            "    Presence       0.78      0.67      0.72        21\n",
            "\n",
            "    accuracy                           0.80        54\n",
            "   macro avg       0.79      0.77      0.78        54\n",
            "weighted avg       0.79      0.80      0.79        54\n",
            "\n",
            "\n",
            "Confusion Matrix:\n",
            " [[29  4]\n",
            " [ 7 14]]\n",
            "\n",
            "Enter Patient Details to Predict Heart Disease (Enter 0 to Exit)\n",
            "Enter Age (or 0 to exit): 20\n",
            "Enter Sex (0 for Male, 1 for Female): 0\n",
            "Enter Chest Pain Type (0-3): 3\n",
            "Enter BP: 100\n",
            "Enter Cholesterol: 40\n",
            "Enter FBS over 120 (0 for No, 1 for Yes): 120\n",
            "Enter EKG results (0-2): 0\n",
            "Enter Max HR: 132\n",
            "Enter Exercise angina (0 for No, 1 for Yes): 0\n",
            "Enter ST depression: 54\n",
            "Enter Slope of ST (0-2): 2\n",
            "Enter Number of vessels fluro: 24\n",
            "Enter Thallium (0-2): 2\n"
          ]
        },
        {
          "output_type": "stream",
          "name": "stderr",
          "text": [
            "/usr/local/lib/python3.11/dist-packages/sklearn/utils/validation.py:2739: UserWarning: X does not have valid feature names, but RandomForestClassifier was fitted with feature names\n",
            "  warnings.warn(\n"
          ]
        },
        {
          "output_type": "stream",
          "name": "stdout",
          "text": [
            "\n",
            "Prediction Result: No Heart Disease\n",
            "\n",
            "Enter Patient Details to Predict Heart Disease (Enter 0 to Exit)\n",
            "Enter Age (or 0 to exit): 0\n",
            "Exiting...\n"
          ]
        }
      ],
      "source": [
        "import pandas as pd\n",
        "import numpy as np\n",
        "from sklearn.model_selection import train_test_split\n",
        "from sklearn.ensemble import RandomForestClassifier\n",
        "from sklearn.metrics import accuracy_score, classification_report, confusion_matrix\n",
        "\n",
        "# Load Dataset (Replace 'heart_disease.csv' with your actual file path)\n",
        "data = pd.read_csv(\"/content/sample_data/Heart_Disease_Prediction.csv\")\n",
        "\n",
        "# Separating Features and Target Variable\n",
        "X = data.drop(columns=[\"Heart Disease\"])  # Features\n",
        "y = data[\"Heart Disease\"]  # Target (1 = Disease, 0 = No Disease)\n",
        "\n",
        "# Split Dataset into Training and Testing\n",
        "X_train, X_test, y_train, y_test = train_test_split(X, y, test_size=0.2, random_state=42)\n",
        "\n",
        "# Train Random Forest Model\n",
        "model = RandomForestClassifier(n_estimators=100, random_state=42)\n",
        "model.fit(X_train, y_train)\n",
        "\n",
        "# Predictions on Test Data\n",
        "y_pred = model.predict(X_test)\n",
        "\n",
        "# Print Dataset\n",
        "print(\"\\nFirst 5 Rows of the Dataset:\\n\", data.head())\n",
        "\n",
        "# Print Model Training Confirmation\n",
        "print(\"\\nRandom Forest Model Trained Successfully!\")\n",
        "\n",
        "# Print Model Accuracy\n",
        "print(\"\\nModel Accuracy:\", accuracy_score(y_test, y_pred))\n",
        "\n",
        "# Print Classification Report\n",
        "print(\"\\nClassification Report:\\n\", classification_report(y_test, y_pred))\n",
        "\n",
        "# Print Confusion Matrix\n",
        "print(\"\\nConfusion Matrix:\\n\", confusion_matrix(y_test, y_pred))\n",
        "\n",
        "# Start while loop\n",
        "while True:\n",
        "    print(\"\\nEnter Patient Details to Predict Heart Disease (Enter 0 to Exit)\")\n",
        "\n",
        "    try:\n",
        "        age = int(input(\"Enter Age (or 0 to exit): \"))\n",
        "        if age == 0:\n",
        "            print(\"Exiting...\")\n",
        "            break  # Exit loop\n",
        "\n",
        "        user_data = [\n",
        "            age,\n",
        "            int(input(\"Enter Sex (0 for Male, 1 for Female): \")),\n",
        "            int(input(\"Enter Chest Pain Type (0-3): \")),\n",
        "            int(input(\"Enter BP: \")),\n",
        "            int(input(\"Enter Cholesterol: \")),\n",
        "            int(input(\"Enter FBS over 120 (0 for No, 1 for Yes): \")),\n",
        "            int(input(\"Enter EKG results (0-2): \")),\n",
        "            int(input(\"Enter Max HR: \")),\n",
        "            int(input(\"Enter Exercise angina (0 for No, 1 for Yes): \")),\n",
        "            float(input(\"Enter ST depression: \")),\n",
        "            int(input(\"Enter Slope of ST (0-2): \")),\n",
        "            int(input(\"Enter Number of vessels fluro: \")),\n",
        "            int(input(\"Enter Thallium (0-2): \"))\n",
        "        ]\n",
        "\n",
        "        # Predicting Heart Disease\n",
        "        prediction = model.predict([user_data])[0]\n",
        "        print(\"\\nPrediction Result:\", \"Heart Disease\" if prediction == 1 else \"No Heart Disease\")\n",
        "\n",
        "    except ValueError:\n",
        "        print(\"Invalid input! Please enter correct values.\")\n"
      ]
    }
  ],
  "metadata": {
    "colab": {
      "provenance": []
    },
    "kernelspec": {
      "display_name": "Python 3",
      "name": "python3"
    },
    "language_info": {
      "name": "python"
    }
  },
  "nbformat": 4,
  "nbformat_minor": 0
}